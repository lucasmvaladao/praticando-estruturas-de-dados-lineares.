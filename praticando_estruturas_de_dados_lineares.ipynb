{
  "nbformat": 4,
  "nbformat_minor": 0,
  "metadata": {
    "colab": {
      "provenance": [],
      "authorship_tag": "ABX9TyMWJ+dCPjaB7Tx7jicIQ9Fl",
      "include_colab_link": true
    },
    "kernelspec": {
      "name": "python3",
      "display_name": "Python 3"
    },
    "language_info": {
      "name": "python"
    }
  },
  "cells": [
    {
      "cell_type": "markdown",
      "metadata": {
        "id": "view-in-github",
        "colab_type": "text"
      },
      "source": [
        "<a href=\"https://colab.research.google.com/github/lucasmvaladao/praticando-estruturas-de-dados-lineares./blob/main/praticando_estruturas_de_dados_lineares.ipynb\" target=\"_parent\"><img src=\"https://colab.research.google.com/assets/colab-badge.svg\" alt=\"Open In Colab\"/></a>"
      ]
    },
    {
      "cell_type": "markdown",
      "source": [
        "# 📚 Introdução: Praticando Estruturas de Dados Lineares\n",
        "\n",
        "As estruturas de dados lineares são fundamentais para a organização da informação em programas eficientes. Elas representam coleções organizadas de elementos que seguem uma ordem lógica, permitindo inserções, remoções, buscas e outras operações específicas que simulam situações do mundo real e lógicas computacionais.\n",
        "\n",
        "Nesta série de exercícios, exploramos as principais estruturas lineares de forma progressiva, com foco em praticar a lógica, entender o comportamento interno de cada estrutura e fortalecer sua base na programação."
      ],
      "metadata": {
        "id": "51DLrkFihYyU"
      }
    },
    {
      "cell_type": "markdown",
      "source": [
        "## 1. Vetor (Lista Simples)\n"
      ],
      "metadata": {
        "id": "ygq_EMG5S_Er"
      }
    },
    {
      "cell_type": "markdown",
      "source": [
        "**Objetivo:** Trabalhar com uma lista simples de elementos e realizar operações básicas como inserção, remoção e busca.\n"
      ],
      "metadata": {
        "id": "BCwgNcLzTY8x"
      }
    },
    {
      "cell_type": "markdown",
      "source": [
        "1. Inserção no Final do Vetor\n",
        "\n",
        "Objetivo: Adicionar um número ao final de um vetor."
      ],
      "metadata": {
        "id": "b-NTg-GwMUwy"
      }
    },
    {
      "cell_type": "code",
      "execution_count": null,
      "metadata": {
        "colab": {
          "base_uri": "https://localhost:8080/"
        },
        "id": "hwjUyyVgL00m",
        "outputId": "2a04c6b1-63e2-433d-bcb1-b985d1e9ae8d"
      },
      "outputs": [
        {
          "output_type": "stream",
          "name": "stdout",
          "text": [
            "[5]\n",
            "[5, 6]\n",
            "[5, 6, 7]\n"
          ]
        }
      ],
      "source": [
        "def inserir_no_final(vetor, num):\n",
        "    vetor.append(num)\n",
        "    return vetor\n",
        "\n",
        "\n",
        "\n",
        "vetor = []\n",
        "\n",
        "resultado = inserir_no_final(vetor, 5)\n",
        "print(resultado)\n",
        "resultado = inserir_no_final(vetor, 6)\n",
        "print(resultado)\n",
        "resultado = inserir_no_final(vetor, 7)\n",
        "print(resultado)"
      ]
    },
    {
      "cell_type": "markdown",
      "source": [
        "2. Inserção Ordenada\n",
        "\n",
        "Objetivo: Inserir um número em um vetor de forma ordenada."
      ],
      "metadata": {
        "id": "9SrlSMXPM0w6"
      }
    },
    {
      "cell_type": "code",
      "source": [
        "def inserir_ordenado(vetor, num):\n",
        "  for i in range(len(vetor)):\n",
        "    if vetor[i] > num:\n",
        "      vetor.insert(i, num)\n",
        "      return vetor\n",
        "  vetor.append(num)\n",
        "  return vetor\n",
        "\n",
        "\n",
        "\n",
        "vetor = []\n",
        "\n",
        "resultado = inserir_ordenado(vetor, 5)\n",
        "print(resultado)\n",
        "resultado = inserir_ordenado(vetor, 10)\n",
        "print(resultado)\n",
        "resultado = inserir_ordenado(vetor, 7)\n",
        "print(resultado)\n"
      ],
      "metadata": {
        "colab": {
          "base_uri": "https://localhost:8080/"
        },
        "id": "MbHycTocM3ma",
        "outputId": "b6dd0fb7-69a4-446a-9a4d-d63c803fc0e1"
      },
      "execution_count": null,
      "outputs": [
        {
          "output_type": "stream",
          "name": "stdout",
          "text": [
            "[5]\n",
            "[5, 10]\n",
            "[5, 7, 10]\n"
          ]
        }
      ]
    },
    {
      "cell_type": "markdown",
      "source": [
        "3. Excluir Elemento Específico\n",
        "\n",
        "Objetivo: Excluir um número específico de um vetor."
      ],
      "metadata": {
        "id": "pnkslHZ_OVN7"
      }
    },
    {
      "cell_type": "code",
      "source": [
        "def excluir_elemento(vetor, num):\n",
        "    for i in range(len(vetor)):\n",
        "      if vetor[i] == num:\n",
        "        del vetor[i]\n",
        "        print(vetor)\n",
        "        return\n",
        "    print(f\"Não há o número {num} no vetor para fazer a exclusão\")\n",
        "\n",
        "\n",
        "\n",
        "vetor = [1, 2, 3, 4, 5]\n",
        "\n",
        "resultado = excluir_elemento(vetor, 5)"
      ],
      "metadata": {
        "colab": {
          "base_uri": "https://localhost:8080/"
        },
        "id": "6AxpkkvwPEA5",
        "outputId": "af04455e-63c6-4cd4-9127-e1ba5ca98d08"
      },
      "execution_count": null,
      "outputs": [
        {
          "output_type": "stream",
          "name": "stdout",
          "text": [
            "[1, 2, 3, 4]\n"
          ]
        }
      ]
    },
    {
      "cell_type": "markdown",
      "source": [
        "4. Busca Linear\n",
        "\n",
        "Objetivo: Realizar uma busca linear para encontrar um número em um vetor."
      ],
      "metadata": {
        "id": "BcAI_fysQYdx"
      }
    },
    {
      "cell_type": "code",
      "source": [
        "def busca_linear(vetor, num):\n",
        "    for i in range(len(vetor)):\n",
        "      if vetor[i] == num:\n",
        "        print(f\"O número {num} existe no vetor.\")\n",
        "        return\n",
        "    print(f\"Não há o número {num} no vetor.\")\n",
        "\n",
        "\n",
        "\n",
        "vetor = [1, 2, 3, 4, 5]\n",
        "\n",
        "resultado = busca_linear(vetor, 5)"
      ],
      "metadata": {
        "colab": {
          "base_uri": "https://localhost:8080/"
        },
        "id": "0_FY7TvaQbBa",
        "outputId": "5d266c7b-dc10-4887-a76b-0efdc6807acb"
      },
      "execution_count": null,
      "outputs": [
        {
          "output_type": "stream",
          "name": "stdout",
          "text": [
            "O número 5 existe no vetor.\n"
          ]
        }
      ]
    },
    {
      "cell_type": "markdown",
      "source": [
        "5. Buscar o Maior/menor Elemento\n",
        "\n",
        "Objetivo: Encontrar o maior ou o menor número em um vetor."
      ],
      "metadata": {
        "id": "ulqB3leDSFHi"
      }
    },
    {
      "cell_type": "code",
      "source": [
        "def buscar_maior(vetor):\n",
        "   print(max(vetor))\n",
        "\n",
        "\n",
        "vetor = [1, 2, 3, 4, 5]\n",
        "\n",
        "resultado = buscar_maior(vetor)"
      ],
      "metadata": {
        "colab": {
          "base_uri": "https://localhost:8080/"
        },
        "id": "JCA6Obm8SG1i",
        "outputId": "913b5d61-969b-4ded-c1df-9f0234756f96"
      },
      "execution_count": null,
      "outputs": [
        {
          "output_type": "stream",
          "name": "stdout",
          "text": [
            "5\n"
          ]
        }
      ]
    },
    {
      "cell_type": "markdown",
      "source": [
        "6. Ordenação de Vetor\n",
        "\n",
        "Objetivo: Ordenar o vetor usando um algoritmo simples, como Bubble Sort."
      ],
      "metadata": {
        "id": "gcX8lqhRS6jZ"
      }
    },
    {
      "cell_type": "code",
      "source": [
        "def ordenar_vetor(vetor):\n",
        "    vetor.sort()\n",
        "    print(vetor)\n",
        "\n",
        "vetor = [1, 22, 2, 4, 3]\n",
        "\n",
        "resultado = ordenar_vetor(vetor)"
      ],
      "metadata": {
        "colab": {
          "base_uri": "https://localhost:8080/"
        },
        "id": "B_sFbpdfTij8",
        "outputId": "90023647-0517-43c0-bd29-7d6917cf0088"
      },
      "execution_count": null,
      "outputs": [
        {
          "output_type": "stream",
          "name": "stdout",
          "text": [
            "[1, 2, 3, 4, 22]\n"
          ]
        }
      ]
    },
    {
      "cell_type": "markdown",
      "source": [
        "\n",
        "\n",
        "---\n",
        "\n"
      ],
      "metadata": {
        "id": "QWaAbyQlaioD"
      }
    },
    {
      "cell_type": "markdown",
      "source": [
        "## 2. Pilha (Stack)\n"
      ],
      "metadata": {
        "id": "b8j8hahlUUz6"
      }
    },
    {
      "cell_type": "markdown",
      "source": [
        "**Objetivo:** Trabalhar com a estrutura de dados de pilha, que segue a política LIFO (Last In, First Out)."
      ],
      "metadata": {
        "id": "NBz9xjk7UXHx"
      }
    },
    {
      "cell_type": "markdown",
      "source": [
        "1. Empilhar (Push)\n",
        "\n",
        "Objetivo: Adicionar um elemento no topo da pilha."
      ],
      "metadata": {
        "id": "zdj9qsE8UZMp"
      }
    },
    {
      "cell_type": "code",
      "source": [
        "def empilhar(pilha, item):\n",
        "    pilha.append(item)\n",
        "    print(pilha)\n",
        "\n",
        "pilha = [1,2,3,4,5]\n",
        "\n",
        "resultado = empilhar(pilha, 6)"
      ],
      "metadata": {
        "colab": {
          "base_uri": "https://localhost:8080/"
        },
        "id": "1ZIL2mJdUh_5",
        "outputId": "8f206281-01e3-4b03-bac4-bc31d603cdb0"
      },
      "execution_count": null,
      "outputs": [
        {
          "output_type": "stream",
          "name": "stdout",
          "text": [
            "[1, 2, 3, 4, 5, 6]\n"
          ]
        }
      ]
    },
    {
      "cell_type": "markdown",
      "source": [
        "2. Desempilhar (Pop)\n",
        "\n",
        "Objetivo: Remover um elemento do topo da pilha.\n",
        "\n",
        "\n"
      ],
      "metadata": {
        "id": "j4X8HgpRU9V6"
      }
    },
    {
      "cell_type": "code",
      "source": [
        "def desempilhar(pilha):\n",
        "  pilha.pop()\n",
        "  print(pilha)\n",
        "\n",
        "pilha = [1,2,3,4,5]\n",
        "\n",
        "resultado = desempilhar(pilha)"
      ],
      "metadata": {
        "colab": {
          "base_uri": "https://localhost:8080/"
        },
        "id": "DZd1HL7bVBHp",
        "outputId": "777f41ee-7b08-48de-8483-6043e882846a"
      },
      "execution_count": null,
      "outputs": [
        {
          "output_type": "stream",
          "name": "stdout",
          "text": [
            "[1, 2, 3, 4]\n"
          ]
        }
      ]
    },
    {
      "cell_type": "markdown",
      "source": [
        "3. Topo da Pilha (Peek)\n",
        "\n",
        "Objetivo: Obter o item do topo da pilha sem removê-lo."
      ],
      "metadata": {
        "id": "aM05MJRsVOp5"
      }
    },
    {
      "cell_type": "code",
      "source": [
        "def topo_pilha(pilha):\n",
        "  print(pilha[-1])\n",
        "\n",
        "pilha = [1,2,3,4,5]\n",
        "\n",
        "resultado = topo_pilha(pilha)"
      ],
      "metadata": {
        "colab": {
          "base_uri": "https://localhost:8080/"
        },
        "id": "qa33aICbVTkZ",
        "outputId": "d2056e30-9835-41b7-d626-60f1f1626be8"
      },
      "execution_count": null,
      "outputs": [
        {
          "output_type": "stream",
          "name": "stdout",
          "text": [
            "5\n"
          ]
        }
      ]
    },
    {
      "cell_type": "markdown",
      "source": [
        "4. Verificar se a Pilha está Vazia\n",
        "\n",
        "Objetivo: Verificar se a pilha está vazia."
      ],
      "metadata": {
        "id": "U528Bp9hWa_p"
      }
    },
    {
      "cell_type": "code",
      "source": [
        "def pilha_vazia(pilha):\n",
        "  if not pilha:\n",
        "    print(\"Pilha vazia.\")\n",
        "  else:\n",
        "    print(\"Pilha não esta vazia.\")\n",
        "\n",
        "\n",
        "pilha = [1,2,3,4,5]\n",
        "\n",
        "resultado = pilha_vazia(pilha)\n",
        "\n"
      ],
      "metadata": {
        "colab": {
          "base_uri": "https://localhost:8080/"
        },
        "id": "kKOoUBpkWeeR",
        "outputId": "8db0d3c2-9ffb-4ff6-ec5e-3a46b9504679"
      },
      "execution_count": null,
      "outputs": [
        {
          "output_type": "stream",
          "name": "stdout",
          "text": [
            "Pilha não esta vazia.\n"
          ]
        }
      ]
    },
    {
      "cell_type": "markdown",
      "source": [
        "5. Tamanho da Pilha\n",
        "\n",
        "Objetivo: Retornar o número de elementos na pilha."
      ],
      "metadata": {
        "id": "PyezTAhmW0q7"
      }
    },
    {
      "cell_type": "code",
      "source": [
        "def tamanho_pilha(pilha):\n",
        "    print(len(pilha))\n",
        "\n",
        "\n",
        "pilha = [1,2,3,4,5]\n",
        "\n",
        "resultado = tamanho_pilha(pilha)"
      ],
      "metadata": {
        "colab": {
          "base_uri": "https://localhost:8080/"
        },
        "id": "Vl2xjIXmXASa",
        "outputId": "49a3a1c5-7fe8-46dd-a277-0de0fbd412d4"
      },
      "execution_count": null,
      "outputs": [
        {
          "output_type": "stream",
          "name": "stdout",
          "text": [
            "5\n"
          ]
        }
      ]
    },
    {
      "cell_type": "markdown",
      "source": [
        "\n",
        "\n",
        "---\n",
        "\n"
      ],
      "metadata": {
        "id": "yBGHUXoHalNz"
      }
    },
    {
      "cell_type": "markdown",
      "source": [
        "## 3. Fila (Queue)\n"
      ],
      "metadata": {
        "id": "VEKEg3AiXTNZ"
      }
    },
    {
      "cell_type": "markdown",
      "source": [
        "**Objetivo:** Trabalhar com a estrutura de dados fila, que segue a política FIFO (First In, First Out)."
      ],
      "metadata": {
        "id": "rAD1jC1NXVdg"
      }
    },
    {
      "cell_type": "markdown",
      "source": [
        "1. Enfileirar (Enqueue)\n",
        "\n",
        "Objetivo: Adicionar um elemento ao final da fila."
      ],
      "metadata": {
        "id": "sW9WNw4hXZnB"
      }
    },
    {
      "cell_type": "code",
      "source": [
        "def enfileirar(fila, item):\n",
        "    fila.append(item)\n",
        "    print(fila)\n",
        "\n",
        "\n",
        "\n",
        "fila = [1, 2, 3]\n",
        "\n",
        "resultado = enfileirar(fila, 2)"
      ],
      "metadata": {
        "colab": {
          "base_uri": "https://localhost:8080/"
        },
        "id": "LnZSY3paYuXZ",
        "outputId": "ff61b481-8c6f-40f9-a1d2-80a1076bee97"
      },
      "execution_count": null,
      "outputs": [
        {
          "output_type": "stream",
          "name": "stdout",
          "text": [
            "[1, 2, 3, 2]\n"
          ]
        }
      ]
    },
    {
      "cell_type": "markdown",
      "source": [
        "2. Desenfileirar (Dequeue)\n",
        "\n",
        "Objetivo: Remover um elemento do início da fila."
      ],
      "metadata": {
        "id": "_QOAaN4radmD"
      }
    },
    {
      "cell_type": "code",
      "source": [
        "def desenfileirar(fila):\n",
        "    fila.pop(0)\n",
        "    print(fila)\n",
        "\n",
        "\n",
        "fila = [1, 2, 3]\n",
        "\n",
        "desenfileirar(fila)"
      ],
      "metadata": {
        "id": "QsPp6nffamaK",
        "colab": {
          "base_uri": "https://localhost:8080/"
        },
        "outputId": "c4c4b29a-a1c7-4be2-c9a8-6a7bf52d4238"
      },
      "execution_count": null,
      "outputs": [
        {
          "output_type": "stream",
          "name": "stdout",
          "text": [
            "[2, 3]\n"
          ]
        }
      ]
    },
    {
      "cell_type": "markdown",
      "source": [
        "3. Primeiro da Fila (Peek)\n",
        "\n",
        "Objetivo: Obter o item na frente da fila sem removê-lo."
      ],
      "metadata": {
        "id": "58-736oafret"
      }
    },
    {
      "cell_type": "code",
      "source": [
        "fila = [1, 2, 3]\n",
        "\n",
        "fila[0]"
      ],
      "metadata": {
        "colab": {
          "base_uri": "https://localhost:8080/"
        },
        "id": "Bt4XG9ryDp-c",
        "outputId": "31c071db-83fe-45d6-db0a-0ec916c90426"
      },
      "execution_count": 1,
      "outputs": [
        {
          "output_type": "execute_result",
          "data": {
            "text/plain": [
              "1"
            ]
          },
          "metadata": {},
          "execution_count": 1
        }
      ]
    },
    {
      "cell_type": "markdown",
      "source": [
        "4. Verificar se a Fila está Vazia\n",
        "\n",
        "Objetivo: Verificar se a fila está vazia."
      ],
      "metadata": {
        "id": "FJ6c0zXFfvFT"
      }
    },
    {
      "cell_type": "code",
      "source": [
        "fila = []\n",
        "\n",
        "if not fila:\n",
        "  print(\"Fila vazia\")\n",
        "else:\n",
        "  print(\"Há elementos na fila\")"
      ],
      "metadata": {
        "colab": {
          "base_uri": "https://localhost:8080/"
        },
        "id": "jMMXlanmDxdM",
        "outputId": "32a4a962-299b-40fa-a18a-1bbc897c624d"
      },
      "execution_count": 3,
      "outputs": [
        {
          "output_type": "stream",
          "name": "stdout",
          "text": [
            "Fila vazia\n"
          ]
        }
      ]
    },
    {
      "cell_type": "markdown",
      "source": [
        "5. Tamanho da Fila\n",
        "\n",
        "Objetivo: Retornar o número de elementos na fila."
      ],
      "metadata": {
        "id": "5bk42qGKfx60"
      }
    },
    {
      "cell_type": "code",
      "source": [
        "fila = [1, 2, 3]\n",
        "\n",
        "len(fila)"
      ],
      "metadata": {
        "colab": {
          "base_uri": "https://localhost:8080/"
        },
        "id": "zcnvyyk1EBBL",
        "outputId": "ab812356-8229-4ce6-d690-ea767c254698"
      },
      "execution_count": 4,
      "outputs": [
        {
          "output_type": "execute_result",
          "data": {
            "text/plain": [
              "3"
            ]
          },
          "metadata": {},
          "execution_count": 4
        }
      ]
    },
    {
      "cell_type": "markdown",
      "source": [
        "\n",
        "\n",
        "---\n",
        "\n"
      ],
      "metadata": {
        "id": "2RgfXh4-f1H5"
      }
    },
    {
      "cell_type": "markdown",
      "source": [
        "## 4. Deque (Double-ended Queue)\n",
        "\n"
      ],
      "metadata": {
        "id": "yPVVTkPLf2C5"
      }
    },
    {
      "cell_type": "markdown",
      "source": [
        "**Objetivo:** Trabalhar com a estrutura de dados Deque, que permite inserções e remoções em ambos os lados da estrutura."
      ],
      "metadata": {
        "id": "Ssif82wtf5Sq"
      }
    },
    {
      "cell_type": "markdown",
      "source": [
        "1. Adicionar no Início (appendleft)\n",
        "\n",
        "Objetivo: Adicionar um elemento no início do deque."
      ],
      "metadata": {
        "id": "zMI7OsB-f98p"
      }
    },
    {
      "cell_type": "code",
      "source": [
        "from collections import deque\n",
        "\n",
        "d = deque()\n",
        "d = deque([2, 3])\n",
        "\n",
        "d.append(4)\n",
        "d.appendleft(1)\n",
        "d.append(\"Maria\")\n",
        "d.pop()\n",
        "\n",
        "d"
      ],
      "metadata": {
        "colab": {
          "base_uri": "https://localhost:8080/"
        },
        "id": "Kc2O_jkqEGmC",
        "outputId": "1aec2a2d-0530-424c-c1d0-725b2bdc5035"
      },
      "execution_count": 13,
      "outputs": [
        {
          "output_type": "execute_result",
          "data": {
            "text/plain": [
              "deque([1, 2, 3, 4])"
            ]
          },
          "metadata": {},
          "execution_count": 13
        }
      ]
    },
    {
      "cell_type": "markdown",
      "source": [
        "2. Adicionar no Fim (append)\n",
        "\n",
        "Objetivo: Adicionar um elemento no final do deque."
      ],
      "metadata": {
        "id": "QLzB3EiYgA7g"
      }
    },
    {
      "cell_type": "code",
      "source": [
        "from collections import deque\n",
        "\n",
        "vari = deque([1,2,3,4,5,6,7,8,9])\n",
        "\n",
        "vari\n",
        "vari.append(10)\n",
        "vari"
      ],
      "metadata": {
        "colab": {
          "base_uri": "https://localhost:8080/"
        },
        "id": "i32kmbr_KmnX",
        "outputId": "bc4ff3dc-70b0-4ef3-c2cd-a4ac982b2df8"
      },
      "execution_count": 15,
      "outputs": [
        {
          "output_type": "execute_result",
          "data": {
            "text/plain": [
              "deque([1, 2, 3, 4, 5, 6, 7, 8, 9, 10])"
            ]
          },
          "metadata": {},
          "execution_count": 15
        }
      ]
    },
    {
      "cell_type": "markdown",
      "source": [
        "3. Remover do Início (popleft)\n",
        "\n",
        "Objetivo: Remover o primeiro item do deque."
      ],
      "metadata": {
        "id": "5-Z7IEiXgD4Y"
      }
    },
    {
      "cell_type": "code",
      "source": [
        "from collections import deque\n",
        "\n",
        "vari = deque([0,1,2,3])\n",
        "\n",
        "vari.popleft()\n",
        "\n",
        "vari"
      ],
      "metadata": {
        "colab": {
          "base_uri": "https://localhost:8080/"
        },
        "id": "KuEHehbsK9_G",
        "outputId": "bae4007f-0035-4cf0-b172-a8a5b4a7b852"
      },
      "execution_count": 18,
      "outputs": [
        {
          "output_type": "execute_result",
          "data": {
            "text/plain": [
              "deque([1, 2, 3])"
            ]
          },
          "metadata": {},
          "execution_count": 18
        }
      ]
    },
    {
      "cell_type": "markdown",
      "source": [
        "4. Remover do Fim (pop)\n",
        "\n",
        "Objetivo: Remover o último item do deque."
      ],
      "metadata": {
        "id": "xyiRhbqbgHHb"
      }
    },
    {
      "cell_type": "code",
      "source": [
        "from collections import deque\n",
        "\n",
        "vari = deque([1,2,3])\n",
        "\n",
        "vari.pop()\n",
        "\n",
        "vari"
      ],
      "metadata": {
        "colab": {
          "base_uri": "https://localhost:8080/"
        },
        "id": "BWOVz-OQMS0T",
        "outputId": "3feb67dd-fdf7-41ad-9cec-6ee2122ee8a3"
      },
      "execution_count": 20,
      "outputs": [
        {
          "output_type": "execute_result",
          "data": {
            "text/plain": [
              "deque([1, 2])"
            ]
          },
          "metadata": {},
          "execution_count": 20
        }
      ]
    },
    {
      "cell_type": "markdown",
      "source": [
        "5. Tamanho do Deque\n",
        "\n",
        "Objetivo: Retornar o número de elementos no deque."
      ],
      "metadata": {
        "id": "IGl9bnfKgLix"
      }
    },
    {
      "cell_type": "code",
      "source": [
        "from collections import deque\n",
        "\n",
        "vari = deque([1,2,3])\n",
        "\n",
        "len(vari)"
      ],
      "metadata": {
        "colab": {
          "base_uri": "https://localhost:8080/"
        },
        "id": "--wcd42UMigr",
        "outputId": "c816927c-2064-4d05-f073-e26cb1e65130"
      },
      "execution_count": 22,
      "outputs": [
        {
          "output_type": "execute_result",
          "data": {
            "text/plain": [
              "3"
            ]
          },
          "metadata": {},
          "execution_count": 22
        }
      ]
    },
    {
      "cell_type": "markdown",
      "source": [
        "\n",
        "\n",
        "---\n",
        "\n"
      ],
      "metadata": {
        "id": "O0ow8sWGgPCA"
      }
    },
    {
      "cell_type": "markdown",
      "source": [
        "## 5. Lista Encadeada (Linked List)\n"
      ],
      "metadata": {
        "id": "4gthyRAwgP_a"
      }
    },
    {
      "cell_type": "markdown",
      "source": [
        "**Objetivo:** Trabalhar com a estrutura de dados de lista encadeada, onde cada elemento contém um valor e uma referência para o próximo."
      ],
      "metadata": {
        "id": "hTIXsOCxgSdC"
      }
    },
    {
      "cell_type": "markdown",
      "source": [
        "1. Inserir no Início\n",
        "\n",
        "Objetivo: Inserir um novo elemento no início da lista encadeada."
      ],
      "metadata": {
        "id": "CgxQJocKgcX4"
      }
    },
    {
      "cell_type": "code",
      "source": [
        "def inserir_inicio(lista, valor):\n",
        "    return {\"valor\": valor, \"proximo\": lista}\n",
        "\n",
        "lista = None\n",
        "\n",
        "lista = inserir_inicio(lista, 5)\n",
        "lista = inserir_inicio(lista, 2)\n",
        "lista = inserir_inicio(lista, 3)\n",
        "\n",
        "\n",
        "def imprimir_lista(lista):\n",
        "    atual = lista\n",
        "    while atual:\n",
        "        return lista\n",
        "        atual = atual[\"proximo\"]\n",
        "    print(\"None\")\n",
        "\n",
        "imprimir_lista(lista)\n"
      ],
      "metadata": {
        "colab": {
          "base_uri": "https://localhost:8080/"
        },
        "id": "lKKchtD5Y_96",
        "outputId": "aebaecdf-40df-4cc3-cef2-feecc364bc17"
      },
      "execution_count": null,
      "outputs": [
        {
          "output_type": "execute_result",
          "data": {
            "text/plain": [
              "{'valor': 5, 'proximo': None}"
            ]
          },
          "metadata": {},
          "execution_count": 13
        }
      ]
    },
    {
      "cell_type": "markdown",
      "source": [
        "2. Inserir no Final\n",
        "\n",
        "Objetivo: Inserir um novo elemento no final da lista encadeada."
      ],
      "metadata": {
        "id": "U0q-1k-igftx"
      }
    },
    {
      "cell_type": "code",
      "source": [
        "def inserir_fim(lista, valor):\n",
        "  novo_no = {\"valor\": valor, \"proximo\": None}\n",
        "\n",
        "  if lista is None:\n",
        "    return novo_no\n",
        "  atual = lista\n",
        "\n",
        "  while atual[\"proximo\"] is not None:\n",
        "    atual = atual[\"proximo\"]\n",
        "  atual[\"proximo\"] = novo_no\n",
        "  return lista\n",
        "\n",
        "no3 = {\"valor\": 30, \"proximo\": None}\n",
        "no2 = {\"valor\": 20, \"proximo\": no3}\n",
        "no1 = {\"valor\": 10, \"proximo\": no2}\n",
        "\n",
        "\n",
        "lista_teste = no1\n",
        "\n",
        "\n",
        "inserir_fim(lista_teste, 40)"
      ],
      "metadata": {
        "colab": {
          "base_uri": "https://localhost:8080/"
        },
        "id": "yyH1RJsSjAJB",
        "outputId": "4033a7db-4170-4ba3-dcdf-d0b4e333a5d2"
      },
      "execution_count": null,
      "outputs": [
        {
          "output_type": "execute_result",
          "data": {
            "text/plain": [
              "{'valor': 10,\n",
              " 'proximo': {'valor': 20,\n",
              "  'proximo': {'valor': 30, 'proximo': {'valor': 40, 'proximo': None}}}}"
            ]
          },
          "metadata": {},
          "execution_count": 20
        }
      ]
    },
    {
      "cell_type": "markdown",
      "source": [
        "3. Excluir Elemento Específico\n",
        "\n",
        "Objetivo: Excluir um elemento específico da lista encadeada."
      ],
      "metadata": {
        "id": "r4OwMdbLghvJ"
      }
    },
    {
      "cell_type": "code",
      "source": [
        "def excluir_elementos(lista, valor):\n",
        "  if lista is None:\n",
        "    return None\n",
        "\n",
        "  if lista['valor'] == valor:\n",
        "    return lista['proximo']\n",
        "\n",
        "  atual = lista\n",
        "\n",
        "  while atual[\"proximo\"] is not None and atual[\"proximo\"][\"valor\"] != valor:\n",
        "    atul = atual[\"proximo\"]\n",
        "\n",
        "  if atual[\"proximo\"]:\n",
        "    atual[\"proximo\"] == atual[\"proximo\"][\"proximo\"]\n",
        "\n",
        "\n",
        "no3 = {\"valor\": 30, \"proximo\": None}\n",
        "no2 = {\"valor\": 20, \"proximo\": no3}\n",
        "no1 = {\"valor\": 10, \"proximo\": no2}\n",
        "\n",
        "lista_teste = no1\n",
        "\n",
        "excluir_elementos(lista_teste, 20)"
      ],
      "metadata": {
        "colab": {
          "base_uri": "https://localhost:8080/"
        },
        "id": "5dm44bI0l7Ah",
        "outputId": "89cc10e8-f993-4676-dadf-32d68631c0af"
      },
      "execution_count": null,
      "outputs": [
        {
          "output_type": "execute_result",
          "data": {
            "text/plain": [
              "{'valor': 10,\n",
              " 'proximo': {'valor': 20,\n",
              "  'proximo': {'valor': 20, 'proximo': {'valor': 30, 'proximo': None}}}}"
            ]
          },
          "metadata": {},
          "execution_count": 21
        }
      ]
    },
    {
      "cell_type": "markdown",
      "source": [
        "4. Buscar Elemento\n",
        "\n",
        "Objetivo: Buscar um elemento na lista encadeada."
      ],
      "metadata": {
        "id": "ZIANcI4ggk0x"
      }
    },
    {
      "cell_type": "code",
      "source": [
        "def buscar_elemento(lista, valor):\n",
        "\n",
        "  if lista is None:\n",
        "    return None\n",
        "\n",
        "  atual = lista\n",
        "  while atual is not None:\n",
        "     if atual[\"valor\"] == valor:\n",
        "      print(f\"O numero {valor} existe na lista\")\n",
        "      return\n",
        "     atual = atual[\"proximo\"]\n",
        "  print(f\"O numero {valor} não existe na lista\")\n",
        "\n",
        "\n",
        "no3 = {\"valor\": 30, \"proximo\": None}\n",
        "no2 = {\"valor\": 20, \"proximo\": no3}\n",
        "no1 = {\"valor\": 10, \"proximo\": no2}\n",
        "\n",
        "lista_teste = no1\n",
        "\n",
        "buscar_elemento(lista_teste, 20)"
      ],
      "metadata": {
        "colab": {
          "base_uri": "https://localhost:8080/"
        },
        "id": "srY0Sj-gsnZx",
        "outputId": "8464a078-e15a-4f7a-cf1e-f2298d9e6e59"
      },
      "execution_count": null,
      "outputs": [
        {
          "output_type": "stream",
          "name": "stdout",
          "text": [
            "O numero 20 existe na lista\n"
          ]
        }
      ]
    },
    {
      "cell_type": "markdown",
      "source": [
        "5. Exibir Lista\n",
        "\n",
        "Objetivo: Exibir todos os elementos da lista encadeada."
      ],
      "metadata": {
        "id": "Vlm9fdlAgoDW"
      }
    },
    {
      "cell_type": "code",
      "source": [
        "def imprimir_lista(lista):\n",
        "  atual = lista\n",
        "  while atual is not None:\n",
        "    print(atual[\"valor\"])\n",
        "    atual = atual[\"proximo\"]\n",
        "\n",
        "no3 = {\"valor\": 30, \"proximo\": None}\n",
        "no2 = {\"valor\": 20, \"proximo\": no3}\n",
        "no1 = {\"valor\": 10, \"proximo\": no2}\n",
        "lista_teste = no1\n",
        "\n",
        "imprimir_lista(lista_teste)"
      ],
      "metadata": {
        "colab": {
          "base_uri": "https://localhost:8080/"
        },
        "id": "JUQ88xE3vSxT",
        "outputId": "210f043c-894c-467b-d818-bb9ee82dbde3"
      },
      "execution_count": null,
      "outputs": [
        {
          "output_type": "stream",
          "name": "stdout",
          "text": [
            "10\n",
            "20\n",
            "30\n"
          ]
        }
      ]
    }
  ]
}